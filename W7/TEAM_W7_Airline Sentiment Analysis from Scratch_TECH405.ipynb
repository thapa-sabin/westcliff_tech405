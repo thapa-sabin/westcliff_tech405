{
 "cells": [
  {
   "cell_type": "markdown",
   "id": "7ed85ad0-d78d-4bad-8e12-951d05945d56",
   "metadata": {},
   "source": [
    "## Importing required libraries"
   ]
  },
  {
   "cell_type": "code",
   "execution_count": 1,
   "id": "914ca47c-13b0-4f4f-8127-4d3f838c3076",
   "metadata": {},
   "outputs": [],
   "source": [
    "import numpy as np\n",
    "import pandas as pd\n",
    "from sklearn.feature_extraction.text import TfidfVectorizer\n",
    "from sklearn.model_selection import train_test_split\n",
    "from sklearn.preprocessing import LabelEncoder\n",
    "from sklearn.metrics import accuracy_score\n",
    "from collections import Counter\n",
    "import re"
   ]
  },
  {
   "cell_type": "markdown",
   "id": "09a6e431-ce70-47b4-85ee-a7d5e3d602e1",
   "metadata": {},
   "source": [
    "## Defining Utility Functions"
   ]
  },
  {
   "cell_type": "code",
   "execution_count": 2,
   "id": "21903279-c371-476f-b2b0-8a52423e95ed",
   "metadata": {},
   "outputs": [],
   "source": [
    "# Utility functions\n",
    "def preprocess_text(text):\n",
    "    \"\"\"\n",
    "    Clean and preprocess text data: remove special characters, convert to lowercase.\n",
    "    \"\"\"\n",
    "    if pd.isnull(text):\n",
    "        return \"\"\n",
    "    text = re.sub(r'[^\\w\\s]', '', text.lower())\n",
    "    return text\n",
    "\n",
    "def build_vocab(texts, vocab_size=5000):\n",
    "    \"\"\"\n",
    "    Build a vocabulary with a fixed size from the dataset.\n",
    "    \"\"\"\n",
    "    counter = Counter()\n",
    "    for text in texts:\n",
    "        counter.update(text.split())\n",
    "    most_common = counter.most_common(vocab_size - 1)\n",
    "    vocab = {word: idx + 1 for idx, (word, _) in enumerate(most_common)}\n",
    "    vocab[\"<UNK>\"] = 0\n",
    "    return vocab\n",
    "\n",
    "def encode_texts(texts, vocab, max_len=50):\n",
    "    \"\"\"\n",
    "    Encode texts into numerical representations using the vocabulary.\n",
    "    \"\"\"\n",
    "    encoded = [[vocab.get(word, 0) for word in text.split()] for text in texts]\n",
    "    return np.array([x[:max_len] + [0] * (max_len - len(x)) if len(x) < max_len else x[:max_len] for x in encoded])"
   ]
  },
  {
   "cell_type": "markdown",
   "id": "d844c4d0-f6e1-4df9-a42d-1a42f3bd3c8c",
   "metadata": {},
   "source": [
    "## Loading and Preprocessing the Dataset"
   ]
  },
  {
   "cell_type": "code",
   "execution_count": 3,
   "id": "22aed0ee-b67e-451a-ad4f-369751e79ad7",
   "metadata": {},
   "outputs": [],
   "source": [
    "# Load the dataset\n",
    "dataset_path = './dataset/Tweets.csv'\n",
    "df = pd.read_csv(dataset_path)\n",
    "\n",
    "# Extract relevant columns\n",
    "df = df[['text', 'airline_sentiment']]\n",
    "df = df.dropna(subset=['text', 'airline_sentiment'])\n",
    "\n",
    "# Preprocess text\n",
    "df[\"text\"] = df[\"text\"].apply(preprocess_text)\n",
    "\n",
    "# Encode labels\n",
    "label_encoder = LabelEncoder()\n",
    "df[\"airline_sentiment\"] = label_encoder.fit_transform(df[\"airline_sentiment\"])"
   ]
  },
  {
   "cell_type": "markdown",
   "id": "dc77a98a-9c50-4283-9af4-5c034038753c",
   "metadata": {},
   "source": [
    "## Feature Extraction Using TF-IDF and Word Embedding"
   ]
  },
  {
   "cell_type": "code",
   "execution_count": 4,
   "id": "80e1c198-b1a7-453f-8ed8-638d8dd5594c",
   "metadata": {},
   "outputs": [],
   "source": [
    "# TF-IDF Feature Extraction\n",
    "tfidf_vectorizer = TfidfVectorizer(max_features=500)\n",
    "X_tfidf = tfidf_vectorizer.fit_transform(df[\"text\"]).toarray()\n",
    "\n",
    "# Word Embedding Preparation\n",
    "vocab = build_vocab(df[\"text\"])\n",
    "X_embedded = encode_texts(df[\"text\"], vocab)\n",
    "\n",
    "# Combining TF-IDF and Embeddings for Model Input\n",
    "X_combined = np.hstack((X_embedded, X_tfidf))"
   ]
  },
  {
   "cell_type": "markdown",
   "id": "c1c73dfc-ab58-48e7-88a6-b37cbc82dad2",
   "metadata": {},
   "source": [
    "## 70:30 Train Test Split"
   ]
  },
  {
   "cell_type": "code",
   "execution_count": 5,
   "id": "40482268-becf-4048-b76b-d6b6073ec335",
   "metadata": {},
   "outputs": [],
   "source": [
    "# Split dataset\n",
    "X_train, X_test, y_train, y_test = train_test_split(X_combined, df[\"airline_sentiment\"], test_size=0.3, random_state=42)"
   ]
  },
  {
   "cell_type": "markdown",
   "id": "00b533cd-43d9-4da0-8e40-ff255421847b",
   "metadata": {},
   "source": [
    "## Defining Neural Network Classes"
   ]
  },
  {
   "cell_type": "code",
   "execution_count": 6,
   "id": "5349bd6f-e244-4fc8-afe5-952b6924d28f",
   "metadata": {},
   "outputs": [],
   "source": [
    "# class SimpleNN:\n",
    "#     def __init__(self, input_size, hidden_size, output_size):\n",
    "#         self.weights_input_hidden = np.random.randn(input_size, hidden_size) * 0.01\n",
    "#         self.weights_hidden_output = np.random.randn(hidden_size, output_size) * 0.01\n",
    "#         self.bias_hidden = np.zeros((1, hidden_size))\n",
    "#         self.bias_output = np.zeros((1, output_size))\n",
    "    \n",
    "#     def softmax(self, x):\n",
    "#         exp_x = np.exp(x - np.max(x, axis=1, keepdims=True))\n",
    "#         return exp_x / np.sum(exp_x, axis=1, keepdims=True)\n",
    "    \n",
    "#     def forward(self, X):\n",
    "#         self.hidden = np.maximum(0, np.dot(X, self.weights_input_hidden) + self.bias_hidden)\n",
    "#         self.output = self.softmax(np.dot(self.hidden, self.weights_hidden_output) + self.bias_output)\n",
    "#         return self.output\n",
    "    \n",
    "#     def backward(self, X, y, lr=0.01):\n",
    "#         m = X.shape[0]\n",
    "#         y_one_hot = np.zeros((m, self.bias_output.shape[1]))\n",
    "#         y_one_hot[np.arange(m), y] = 1\n",
    "\n",
    "#         output_error = self.output - y_one_hot\n",
    "#         hidden_error = np.dot(output_error, self.weights_hidden_output.T) * (self.hidden > 0)\n",
    "\n",
    "#         self.weights_hidden_output -= lr * np.dot(self.hidden.T, output_error) / m\n",
    "#         self.bias_output -= lr * np.sum(output_error, axis=0, keepdims=True) / m\n",
    "#         self.weights_input_hidden -= lr * np.dot(X.T, hidden_error) / m\n",
    "#         self.bias_hidden -= lr * np.sum(hidden_error, axis=0, keepdims=True) / m\n",
    "    \n",
    "#     def train(self, X, y, epochs=100, lr=0.01):\n",
    "#         for epoch in range(epochs):\n",
    "#             predictions = self.forward(X)\n",
    "#             loss = -np.mean(np.log(predictions[np.arange(len(y)), y]))\n",
    "#             self.backward(X, y, lr)\n",
    "#             if (epoch + 1) % 10 == 0:\n",
    "#                 print(f\"Epoch {epoch + 1}, Loss: {loss:.4f}\")\n",
    "    \n",
    "#     def predict(self, X):\n",
    "#         predictions = self.forward(X)\n",
    "#         return np.argmax(predictions, axis=1)"
   ]
  },
  {
   "cell_type": "code",
   "execution_count": 7,
   "id": "da544db1-c92a-4406-8c11-5c9d267a0a47",
   "metadata": {},
   "outputs": [
    {
     "name": "stdout",
     "output_type": "stream",
     "text": [
      "Class Weights: {0: 0.5367693274670019, 1: 1.5422121896162528, 2: 2.0467345715997602}\n"
     ]
    }
   ],
   "source": [
    "from sklearn.utils.class_weight import compute_class_weight\n",
    "\n",
    "# Calculate class weights\n",
    "class_weights = compute_class_weight('balanced', classes=np.unique(y_train), y=y_train)\n",
    "class_weights_dict = {i: weight for i, weight in enumerate(class_weights)}\n",
    "\n",
    "print(f\"Class Weights: {class_weights_dict}\")\n",
    "\n",
    "class SimpleNNWithClassWeights:\n",
    "    def __init__(self, input_size, hidden_size, output_size, class_weights):\n",
    "        self.weights_input_hidden = np.random.randn(input_size, hidden_size) * 0.01\n",
    "        self.weights_hidden_output = np.random.randn(hidden_size, output_size) * 0.01\n",
    "        self.bias_hidden = np.zeros((1, hidden_size))\n",
    "        self.bias_output = np.zeros((1, output_size))\n",
    "        self.class_weights = class_weights  # Incorporate class weights\n",
    "    \n",
    "    def softmax(self, x):\n",
    "        exp_x = np.exp(x - np.max(x, axis=1, keepdims=True))\n",
    "        return exp_x / np.sum(exp_x, axis=1, keepdims=True)\n",
    "    \n",
    "    def forward(self, X):\n",
    "        self.hidden = np.maximum(0, np.dot(X, self.weights_input_hidden) + self.bias_hidden)\n",
    "        self.output = self.softmax(np.dot(self.hidden, self.weights_hidden_output) + self.bias_output)\n",
    "        return self.output\n",
    "    \n",
    "    def backward(self, X, y, lr=0.01):\n",
    "        m = X.shape[0]\n",
    "        y_one_hot = np.zeros((m, self.bias_output.shape[1]))\n",
    "        y_one_hot[np.arange(m), y] = 1\n",
    "\n",
    "        # Adjust output error with class weights\n",
    "        output_error = (self.output - y_one_hot) * np.array([self.class_weights[y[i]] for i in range(m)]).reshape(-1, 1)\n",
    "        hidden_error = np.dot(output_error, self.weights_hidden_output.T) * (self.hidden > 0)\n",
    "\n",
    "        self.weights_hidden_output -= lr * np.dot(self.hidden.T, output_error) / m\n",
    "        self.bias_output -= lr * np.sum(output_error, axis=0, keepdims=True) / m\n",
    "        self.weights_input_hidden -= lr * np.dot(X.T, hidden_error) / m\n",
    "        self.bias_hidden -= lr * np.sum(hidden_error, axis=0, keepdims=True) / m\n",
    "    \n",
    "    def train(self, X, y, epochs=100, lr=0.01):\n",
    "        for epoch in range(epochs):\n",
    "            predictions = self.forward(X)\n",
    "            loss = -np.mean(np.log(predictions[np.arange(len(y)), y]) * np.array([self.class_weights[y[i]] for i in range(len(y))]))\n",
    "            self.backward(X, y, lr)\n",
    "            if (epoch + 1) % 10 == 0:\n",
    "                print(f\"Epoch {epoch + 1}, Loss: {loss:.4f}\")\n",
    "    \n",
    "    def predict(self, X):\n",
    "        predictions = self.forward(X)\n",
    "        return np.argmax(predictions, axis=1)"
   ]
  },
  {
   "cell_type": "markdown",
   "id": "1a1df9a4-b32c-420c-85cc-fa66785394f3",
   "metadata": {},
   "source": [
    "## Training the Model"
   ]
  },
  {
   "cell_type": "code",
   "execution_count": 9,
   "id": "317c9322-7e3a-4b7f-a1fc-45e3dc0928ba",
   "metadata": {},
   "outputs": [
    {
     "name": "stdout",
     "output_type": "stream",
     "text": [
      "Epoch 10, Loss: 1.0822\n",
      "Epoch 20, Loss: 1.0674\n",
      "Epoch 30, Loss: 1.0565\n",
      "Epoch 40, Loss: 1.0557\n",
      "Epoch 50, Loss: 1.0606\n",
      "Epoch 60, Loss: 1.0566\n",
      "Epoch 70, Loss: 1.0530\n",
      "Epoch 80, Loss: 1.0451\n",
      "Epoch 90, Loss: 1.0376\n",
      "Epoch 100, Loss: 1.0373\n"
     ]
    }
   ],
   "source": [
    "# Initialize and train the model\n",
    "input_size = X_train.shape[1]\n",
    "hidden_size = 64\n",
    "output_size = len(label_encoder.classes_)\n",
    "\n",
    "# nn_model = SimpleNN(input_size, hidden_size, output_size)\n",
    "nn_model = SimpleNNWithClassWeights(input_size, hidden_size, output_size, class_weights)\n",
    "nn_model.train(X_train, y_train.values, epochs=100, lr=0.01)"
   ]
  },
  {
   "cell_type": "markdown",
   "id": "894edcc0-965c-412c-8efc-ef50ba3725b3",
   "metadata": {},
   "source": [
    "## Evaluating model performance"
   ]
  },
  {
   "cell_type": "code",
   "execution_count": 10,
   "id": "87195029-f56c-4817-bcc3-01330f989e89",
   "metadata": {},
   "outputs": [
    {
     "name": "stdout",
     "output_type": "stream",
     "text": [
      "Test Accuracy: 0.5879\n"
     ]
    }
   ],
   "source": [
    "# Evaluate the model\n",
    "y_pred = nn_model.predict(X_test)\n",
    "accuracy = accuracy_score(y_test, y_pred)\n",
    "print(f\"Test Accuracy: {accuracy:.4f}\")"
   ]
  },
  {
   "cell_type": "markdown",
   "id": "44e2b27d-3455-46cf-9bbd-01bbbf96d6be",
   "metadata": {},
   "source": [
    "## Further evaluation of model performance"
   ]
  },
  {
   "cell_type": "code",
   "execution_count": 12,
   "id": "d011b8ff-af8f-4dd4-90da-2d73dbd0b2ee",
   "metadata": {},
   "outputs": [
    {
     "name": "stdout",
     "output_type": "stream",
     "text": [
      "Epoch 10, Loss: 1.0731\n",
      "Epoch 20, Loss: 1.0522\n",
      "Epoch 30, Loss: 1.0496\n",
      "Epoch 40, Loss: 1.0243\n",
      "Epoch 50, Loss: 1.0260\n",
      "Epoch 60, Loss: 1.0220\n",
      "Epoch 70, Loss: 1.0149\n",
      "Epoch 80, Loss: 1.0094\n",
      "Epoch 90, Loss: 0.9988\n",
      "Epoch 100, Loss: 0.9934\n"
     ]
    },
    {
     "data": {
      "image/png": "[encoded data removed]",
      "text/plain": [
       "<Figure size 640x480 with 1 Axes>"
      ]
     },
     "metadata": {},
     "output_type": "display_data"
    },
    {
     "data": {
      "image/png": "[encoded data removed]",
      "text/plain": [
       "<Figure size 640x480 with 2 Axes>"
      ]
     },
     "metadata": {},
     "output_type": "display_data"
    },
    {
     "name": "stdout",
     "output_type": "stream",
     "text": [
      "Classification Report:\n",
      "              precision    recall  f1-score   support\n",
      "\n",
      "    negative       0.77      0.53      0.63      2814\n",
      "     neutral       0.33      0.38      0.35       884\n",
      "    positive       0.19      0.38      0.25       694\n",
      "\n",
      "    accuracy                           0.48      4392\n",
      "   macro avg       0.43      0.43      0.41      4392\n",
      "weighted avg       0.59      0.48      0.52      4392\n",
      "\n"
     ]
    }
   ],
   "source": [
    "import matplotlib.pyplot as plt\n",
    "from sklearn.metrics import confusion_matrix, classification_report, ConfusionMatrixDisplay\n",
    "\n",
    "# Plot the training loss\n",
    "class LossTracker:\n",
    "    \"\"\"\n",
    "    Helper class to track and visualize loss during training.\n",
    "    \"\"\"\n",
    "    def __init__(self):\n",
    "        self.losses = []\n",
    "\n",
    "    def add_loss(self, loss):\n",
    "        self.losses.append(loss)\n",
    "\n",
    "    def plot_losses(self):\n",
    "        plt.plot(self.losses, label='Training Loss')\n",
    "        plt.xlabel('Epochs')\n",
    "        plt.ylabel('Loss')\n",
    "        plt.title('Loss Curve')\n",
    "        plt.legend()\n",
    "        plt.show()\n",
    "\n",
    "# Update the training process to track loss\n",
    "# class SimpleNNWithLossTracking(SimpleNN):\n",
    "class SimpleNNWithLossTracking(SimpleNNWithClassWeights):\n",
    "    def __init__(self, *args, **kwargs):\n",
    "        super().__init__(*args, **kwargs)\n",
    "        self.loss_tracker = LossTracker()\n",
    "    \n",
    "    def train(self, X, y, epochs=100, lr=0.01):\n",
    "        for epoch in range(epochs):\n",
    "            predictions = self.forward(X)\n",
    "            loss = -np.mean(np.log(predictions[np.arange(len(y)), y]))\n",
    "            self.loss_tracker.add_loss(loss)\n",
    "            self.backward(X, y, lr)\n",
    "            if (epoch + 1) % 10 == 0:\n",
    "                print(f\"Epoch {epoch + 1}, Loss: {loss:.4f}\")\n",
    "\n",
    "# Retrain the model with loss tracking\n",
    "# nn_model = SimpleNNWithLossTracking(input_size, hidden_size, output_size)\n",
    "nn_model = SimpleNNWithLossTracking(input_size, hidden_size, output_size, class_weights)\n",
    "nn_model.train(X_train, y_train.values, epochs=100, lr=0.01)\n",
    "\n",
    "# Plot the loss curve\n",
    "nn_model.loss_tracker.plot_losses()\n",
    "\n",
    "# Confusion matrix\n",
    "y_pred = nn_model.predict(X_test)\n",
    "conf_matrix = confusion_matrix(y_test, y_pred)\n",
    "disp = ConfusionMatrixDisplay(confusion_matrix=conf_matrix, display_labels=label_encoder.classes_)\n",
    "disp.plot(cmap='Blues')\n",
    "plt.title('Confusion Matrix')\n",
    "plt.show()\n",
    "\n",
    "# Classification report\n",
    "print(\"Classification Report:\")\n",
    "print(classification_report(y_test, y_pred, target_names=label_encoder.classes_))"
   ]
  },
  {
   "cell_type": "code",
   "execution_count": null,
   "id": "18a04e9a-3623-41b0-9aba-45d23e129434",
   "metadata": {},
   "outputs": [],
   "source": []
  }
 ],
 "metadata": {
  "kernelspec": {
   "display_name": "Python 3 (ipykernel)",
   "language": "python",
   "name": "python3"
  },
  "language_info": {
   "codemirror_mode": {
    "name": "ipython",
    "version": 3
   },
   "file_extension": ".py",
   "mimetype": "text/x-python",
   "name": "python",
   "nbconvert_exporter": "python",
   "pygments_lexer": "ipython3",
   "version": "3.10.12"
  }
 },
 "nbformat": 4,
 "nbformat_minor": 5
}
